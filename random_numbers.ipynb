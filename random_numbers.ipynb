{
 "cells": [
  {
   "cell_type": "code",
   "execution_count": 10,
   "id": "6884d892",
   "metadata": {},
   "outputs": [],
   "source": [
    "# Import the NumPy module.\n",
    "import numpy as np"
   ]
  },
  {
   "cell_type": "code",
   "execution_count": 11,
   "id": "5bebafea",
   "metadata": {},
   "outputs": [
    {
     "data": {
      "text/plain": [
       "-12"
      ]
     },
     "execution_count": 11,
     "metadata": {},
     "output_type": "execute_result"
    }
   ],
   "source": [
    "random.randint(-90, 90)"
   ]
  },
  {
   "cell_type": "code",
   "execution_count": 12,
   "id": "39e911f6",
   "metadata": {},
   "outputs": [
    {
     "data": {
      "text/plain": [
       "0.32475476870275266"
      ]
     },
     "execution_count": 12,
     "metadata": {},
     "output_type": "execute_result"
    }
   ],
   "source": [
    "random.random()"
   ]
  },
  {
   "cell_type": "code",
   "execution_count": 13,
   "id": "7c6f8d10",
   "metadata": {},
   "outputs": [
    {
     "data": {
      "text/plain": [
       "62.328610340855064"
      ]
     },
     "execution_count": 13,
     "metadata": {},
     "output_type": "execute_result"
    }
   ],
   "source": [
    "random_number = random.randint(-90,89) + random.random()\n",
    "random_number"
   ]
  },
  {
   "cell_type": "code",
   "execution_count": 14,
   "id": "c5f798f5",
   "metadata": {
    "scrolled": true
   },
   "outputs": [
    {
     "data": {
      "text/plain": [
       "[-53.11304544756561,\n",
       " -0.036818104265776586,\n",
       " -68.2294636057427,\n",
       " -47.83810727636638,\n",
       " -19.588914980237824,\n",
       " -5.376040195315968,\n",
       " 84.093473820504,\n",
       " -51.40562780086414,\n",
       " -73.12649783033275,\n",
       " -4.674922795877223]"
      ]
     },
     "execution_count": 14,
     "metadata": {},
     "output_type": "execute_result"
    }
   ],
   "source": [
    "x = 1\n",
    "latitudes = []\n",
    "while x < 11:\n",
    "    random_lat = random.randint(-90, 89) + random.random()\n",
    "    latitudes.append(random_lat)\n",
    "    x += 1\n",
    "latitudes"
   ]
  },
  {
   "cell_type": "code",
   "execution_count": 15,
   "id": "712a19a3",
   "metadata": {},
   "outputs": [
    {
     "data": {
      "text/plain": [
       "-55.49543167146332"
      ]
     },
     "execution_count": 15,
     "metadata": {},
     "output_type": "execute_result"
    }
   ],
   "source": [
    "np.random.uniform(-90.000, 90.000)"
   ]
  },
  {
   "cell_type": "code",
   "execution_count": 17,
   "id": "24bbd521",
   "metadata": {},
   "outputs": [
    {
     "data": {
      "text/plain": [
       "array([-84.10917423,  63.13637204, -79.55132779,  86.84058524,\n",
       "        34.30411372, -52.77409691, -39.6044066 , -85.97999517,\n",
       "        13.72533559,  61.42597065,  29.82525379, -85.39799757,\n",
       "        -7.99016643, -20.58296158,  68.15020483, -63.06063469,\n",
       "        76.62816094, -38.05151761, -27.20718553,  41.93761281,\n",
       "        49.62622016, -51.69042254, -32.68716879,  -5.71554962,\n",
       "        36.78932766, -36.01545988, -48.66845929, -51.64111861,\n",
       "        74.43198231, -40.80506814, -41.07952207,  87.44978377,\n",
       "        45.31643376,  40.05874034,  43.66241531, -33.78188746,\n",
       "         8.56747776, -47.37213169, -76.05065725, -50.46847654,\n",
       "       -28.22571004,  86.26513657,   9.81519051, -45.56782326,\n",
       "       -51.96376771,  33.5411049 , -77.14377505, -37.84794604,\n",
       "       -78.09419857,  23.61772786])"
      ]
     },
     "execution_count": 17,
     "metadata": {},
     "output_type": "execute_result"
    }
   ],
   "source": [
    "np.random.uniform(-90.000, 90.000, size=50)"
   ]
  },
  {
   "cell_type": "code",
   "execution_count": 18,
   "id": "a19088fe",
   "metadata": {},
   "outputs": [],
   "source": [
    "# Import timeit.\n",
    "import timeit"
   ]
  },
  {
   "cell_type": "code",
   "execution_count": 21,
   "id": "541905ee",
   "metadata": {},
   "outputs": [
    {
     "name": "stdout",
     "output_type": "stream",
     "text": [
      "12 µs ± 462 ns per loop (mean ± std. dev. of 7 runs, 100000 loops each)\n"
     ]
    }
   ],
   "source": [
    "%timeit np.random.uniform(-90.000, 90.000, size=1500)\n"
   ]
  },
  {
   "cell_type": "code",
   "execution_count": 22,
   "id": "49cf92c8",
   "metadata": {},
   "outputs": [
    {
     "name": "stdout",
     "output_type": "stream",
     "text": [
      "1.63 ms ± 27.8 µs per loop (mean ± std. dev. of 7 runs, 1000 loops each)\n"
     ]
    }
   ],
   "source": [
    "def latitudes(size):\n",
    "    latitudes = []\n",
    "    x = 0\n",
    "    while x < (size):\n",
    "        random_lat = random.randint(-90, 90) + random.random()\n",
    "        latitudes.append(random_lat)\n",
    "        x += 1\n",
    "    return latitudes\n",
    "# Call the function with 1500.\n",
    "%timeit latitudes(1500)"
   ]
  },
  {
   "cell_type": "code",
   "execution_count": null,
   "id": "03bd4b4a",
   "metadata": {},
   "outputs": [],
   "source": []
  }
 ],
 "metadata": {
  "kernelspec": {
   "display_name": "PythonData",
   "language": "python",
   "name": "pythondata"
  },
  "language_info": {
   "codemirror_mode": {
    "name": "ipython",
    "version": 3
   },
   "file_extension": ".py",
   "mimetype": "text/x-python",
   "name": "python",
   "nbconvert_exporter": "python",
   "pygments_lexer": "ipython3",
   "version": "3.7.11"
  }
 },
 "nbformat": 4,
 "nbformat_minor": 5
}
